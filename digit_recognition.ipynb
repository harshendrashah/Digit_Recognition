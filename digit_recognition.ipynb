{
  "nbformat": 4,
  "nbformat_minor": 0,
  "metadata": {
    "colab": {
      "name": "digit_recognition.ipynb",
      "version": "0.3.2",
      "provenance": [],
      "include_colab_link": true
    },
    "kernelspec": {
      "name": "python3",
      "display_name": "Python 3"
    }
  },
  "cells": [
    {
      "cell_type": "markdown",
      "metadata": {
        "id": "view-in-github",
        "colab_type": "text"
      },
      "source": [
        "<a href=\"https://colab.research.google.com/github/harshendrashah/Digit_Recognition/blob/master/digit_recognition.ipynb\" target=\"_parent\"><img src=\"https://colab.research.google.com/assets/colab-badge.svg\" alt=\"Open In Colab\"/></a>"
      ]
    },
    {
      "metadata": {
        "id": "iPf2T0SstfVm",
        "colab_type": "text"
      },
      "cell_type": "markdown",
      "source": [
        "# Digit Recognition using Keras"
      ]
    },
    {
      "metadata": {
        "id": "bj-YX0Q-ipln",
        "colab_type": "code",
        "colab": {
          "base_uri": "https://localhost:8080/",
          "height": 34
        },
        "outputId": "42252fee-f174-4d5b-e07b-31484f0e434b"
      },
      "cell_type": "code",
      "source": [
        "from keras.datasets import mnist\n",
        "import matplotlib.pyplot as plt"
      ],
      "execution_count": 1,
      "outputs": [
        {
          "output_type": "stream",
          "text": [
            "Using TensorFlow backend.\n"
          ],
          "name": "stderr"
        }
      ]
    },
    {
      "metadata": {
        "id": "SCaWTrSKhifu",
        "colab_type": "code",
        "colab": {}
      },
      "cell_type": "code",
      "source": [
        "(X_train, y_train), (X_test, y_test) = mnist.load_data()"
      ],
      "execution_count": 0,
      "outputs": []
    },
    {
      "metadata": {
        "id": "DVNR97F6iXsk",
        "colab_type": "code",
        "colab": {
          "base_uri": "https://localhost:8080/",
          "height": 348
        },
        "outputId": "d7a80dfd-31c0-4813-8462-62e4c09d1ec1"
      },
      "cell_type": "code",
      "source": [
        "# plot 4 images as gray scale\n",
        "plt.subplot(221)\n",
        "plt.imshow(X_train[0], cmap=plt.get_cmap('gray'))\n",
        "plt.subplot(222)\n",
        "plt.imshow(X_train[1], cmap=plt.get_cmap('gray'))\n",
        "plt.subplot(223)\n",
        "plt.imshow(X_train[2], cmap=plt.get_cmap('gray'))\n",
        "plt.subplot(224)\n",
        "plt.imshow(X_train[3], cmap=plt.get_cmap('gray'))\n",
        "# show the plot\n",
        "plt.show()"
      ],
      "execution_count": 23,
      "outputs": [
        {
          "output_type": "display_data",
          "data": {
            "image/png": "[encoded data removed]",
            "text/plain": [
              "<Figure size 576x396 with 4 Axes>"
            ]
          },
          "metadata": {
            "tags": []
          }
        }
      ]
    },
    {
      "metadata": {
        "id": "Wmfab26MdLo-",
        "colab_type": "code",
        "colab": {}
      },
      "cell_type": "code",
      "source": [
        "import numpy\n",
        "from keras.models import Sequential\n",
        "from keras.layers import Dense\n",
        "from keras.layers import Dropout\n",
        "from keras.utils import np_utils"
      ],
      "execution_count": 0,
      "outputs": []
    },
    {
      "metadata": {
        "id": "jF6WaMz4eKK4",
        "colab_type": "code",
        "colab": {}
      },
      "cell_type": "code",
      "source": [
        "# fix random seed for reproducibility\n",
        "seed = 7\n",
        "numpy.random.seed(seed)"
      ],
      "execution_count": 0,
      "outputs": []
    },
    {
      "metadata": {
        "id": "EhLHrj5AewNv",
        "colab_type": "text"
      },
      "cell_type": "markdown",
      "source": [
        "## Convert 28*28 images to a vector of length 784"
      ]
    },
    {
      "metadata": {
        "id": "WB-uKwfTfQkZ",
        "colab_type": "code",
        "colab": {
          "base_uri": "https://localhost:8080/",
          "height": 34
        },
        "outputId": "4f2bcf12-771a-4043-cbe2-7850fe5a6c2d"
      },
      "cell_type": "code",
      "source": [
        "num_pixels = X_train.shape[1] * X_train.shape[2]\n",
        "X_train = X_train.reshape(X_train.shape[0], num_pixels).astype('float32')\n",
        "X_test = X_test.reshape(X_test.shape[0], num_pixels).astype('float32')\n",
        "X_test.shape"
      ],
      "execution_count": 26,
      "outputs": [
        {
          "output_type": "execute_result",
          "data": {
            "text/plain": [
              "(10000, 784)"
            ]
          },
          "metadata": {
            "tags": []
          },
          "execution_count": 26
        }
      ]
    },
    {
      "metadata": {
        "id": "Tfex62F2gGCs",
        "colab_type": "code",
        "colab": {
          "base_uri": "https://localhost:8080/",
          "height": 34
        },
        "outputId": "22f24465-02c9-4023-daeb-a8e6e029f7bc"
      },
      "cell_type": "code",
      "source": [
        "X_train.shape"
      ],
      "execution_count": 27,
      "outputs": [
        {
          "output_type": "execute_result",
          "data": {
            "text/plain": [
              "(60000, 784)"
            ]
          },
          "metadata": {
            "tags": []
          },
          "execution_count": 27
        }
      ]
    },
    {
      "metadata": {
        "id": "JvzSgQwfhKGZ",
        "colab_type": "text"
      },
      "cell_type": "markdown",
      "source": [
        "## Normalize inputs from 0-255 to 0-1"
      ]
    },
    {
      "metadata": {
        "id": "DwgmtABPg59_",
        "colab_type": "code",
        "colab": {}
      },
      "cell_type": "code",
      "source": [
        "X_train = X_train / 255\n",
        "X_test = X_test / 255"
      ],
      "execution_count": 0,
      "outputs": []
    },
    {
      "metadata": {
        "id": "cp6vhwfKhguq",
        "colab_type": "text"
      },
      "cell_type": "markdown",
      "source": [
        "## One hot encode outputs"
      ]
    },
    {
      "metadata": {
        "id": "xXmcD_1whNVT",
        "colab_type": "code",
        "colab": {}
      },
      "cell_type": "code",
      "source": [
        "y_train = np_utils.to_categorical(y_train)\n",
        "y_test = np_utils.to_categorical(y_test)\n",
        "num_classes = y_test.shape[1]"
      ],
      "execution_count": 0,
      "outputs": []
    },
    {
      "metadata": {
        "id": "e468iakJikE_",
        "colab_type": "text"
      },
      "cell_type": "markdown",
      "source": [
        "# Baseline Model"
      ]
    },
    {
      "metadata": {
        "id": "uLOJ2GbYiQQW",
        "colab_type": "code",
        "colab": {}
      },
      "cell_type": "code",
      "source": [
        "def baseline_model():\n",
        "    model = Sequential()\n",
        "    model.add(Dense(num_pixels, input_dim=num_pixels, kernel_initializer='normal', activation='relu'))\n",
        "    model.add(Dense(num_classes, kernel_initializer='normal', activation='softmax'))\n",
        "    model.compile(loss='categorical_crossentropy', optimizer='adam', metrics=['accuracy'])\n",
        "    return model"
      ],
      "execution_count": 0,
      "outputs": []
    },
    {
      "metadata": {
        "id": "m-HNajyzmMwP",
        "colab_type": "code",
        "colab": {
          "base_uri": "https://localhost:8080/",
          "height": 386
        },
        "outputId": "8b586464-3097-46df-87e6-1007d2a55d43"
      },
      "cell_type": "code",
      "source": [
        "# build the model\n",
        "model = baseline_model()\n",
        "# Fit the model\n",
        "model.fit(X_train, y_train, validation_data=(X_test, y_test), epochs=10, batch_size=200, verbose=2)\n",
        "# Final evaluation of the model\n",
        "scores = model.evaluate(X_test, y_test, verbose=0)\n",
        "print(\"Baseline Error: %.2f%%\" % (100-scores[1]*100))"
      ],
      "execution_count": 49,
      "outputs": [
        {
          "output_type": "stream",
          "text": [
            "Train on 60000 samples, validate on 10000 samples\n",
            "Epoch 1/10\n",
            " - 7s - loss: 0.2856 - acc: 0.9188 - val_loss: 0.1417 - val_acc: 0.9583\n",
            "Epoch 2/10\n",
            " - 7s - loss: 0.1119 - acc: 0.9672 - val_loss: 0.1009 - val_acc: 0.9710\n",
            "Epoch 3/10\n",
            " - 7s - loss: 0.0720 - acc: 0.9793 - val_loss: 0.0796 - val_acc: 0.9756\n",
            "Epoch 4/10\n",
            " - 7s - loss: 0.0507 - acc: 0.9853 - val_loss: 0.0753 - val_acc: 0.9770\n",
            "Epoch 5/10\n",
            " - 7s - loss: 0.0365 - acc: 0.9901 - val_loss: 0.0655 - val_acc: 0.9792\n",
            "Epoch 6/10\n",
            " - 7s - loss: 0.0266 - acc: 0.9931 - val_loss: 0.0655 - val_acc: 0.9797\n",
            "Epoch 7/10\n",
            " - 7s - loss: 0.0198 - acc: 0.9952 - val_loss: 0.0640 - val_acc: 0.9806\n",
            "Epoch 8/10\n",
            " - 7s - loss: 0.0146 - acc: 0.9968 - val_loss: 0.0588 - val_acc: 0.9824\n",
            "Epoch 9/10\n",
            " - 7s - loss: 0.0113 - acc: 0.9976 - val_loss: 0.0647 - val_acc: 0.9808\n",
            "Epoch 10/10\n",
            " - 7s - loss: 0.0082 - acc: 0.9985 - val_loss: 0.0614 - val_acc: 0.9821\n",
            "Baseline Error: 1.79%\n"
          ],
          "name": "stdout"
        }
      ]
    },
    {
      "metadata": {
        "id": "oNjCbPMYoJdp",
        "colab_type": "code",
        "colab": {}
      },
      "cell_type": "code",
      "source": [
        ""
      ],
      "execution_count": 0,
      "outputs": []
    }
  ]
}