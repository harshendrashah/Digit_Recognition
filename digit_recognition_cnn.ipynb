{
  "nbformat": 4,
  "nbformat_minor": 0,
  "metadata": {
    "colab": {
      "name": "digit_recognition_cnn.ipynb",
      "version": "0.3.2",
      "provenance": [],
      "include_colab_link": true
    },
    "kernelspec": {
      "name": "python3",
      "display_name": "Python 3"
    }
  },
  "cells": [
    {
      "cell_type": "markdown",
      "metadata": {
        "id": "view-in-github",
        "colab_type": "text"
      },
      "source": [
        "<a href=\"https://colab.research.google.com/github/harshendrashah/Digit_Recognition/blob/master/digit_recognition_cnn.ipynb\" target=\"_parent\"><img src=\"https://colab.research.google.com/assets/colab-badge.svg\" alt=\"Open In Colab\"/></a>"
      ]
    },
    {
      "metadata": {
        "id": "blXir19ewd-c",
        "colab_type": "code",
        "colab": {
          "base_uri": "https://localhost:8080/",
          "height": 34
        },
        "outputId": "d367b257-0999-4e39-d83b-c368fa627311"
      },
      "cell_type": "code",
      "source": [
        "import numpy\n",
        "from keras.datasets import mnist\n",
        "from keras.models import Sequential\n",
        "from keras.layers import Dense\n",
        "from keras.layers import Dropout\n",
        "from keras.layers import Flatten\n",
        "from keras.layers.convolutional import Conv2D\n",
        "from keras.layers.convolutional import MaxPooling2D\n",
        "from keras.utils import np_utils\n",
        "from keras import backend as K"
      ],
      "execution_count": 1,
      "outputs": [
        {
          "output_type": "stream",
          "text": [
            "Using TensorFlow backend.\n"
          ],
          "name": "stderr"
        }
      ]
    },
    {
      "metadata": {
        "id": "pNg3ZWpdwz6W",
        "colab_type": "code",
        "colab": {}
      },
      "cell_type": "code",
      "source": [
        "K.set_image_dim_ordering('th')"
      ],
      "execution_count": 0,
      "outputs": []
    },
    {
      "metadata": {
        "id": "bFN7BFMXxEFp",
        "colab_type": "text"
      },
      "cell_type": "markdown",
      "source": [
        "## Fix random seed for reproducibility"
      ]
    },
    {
      "metadata": {
        "id": "wwtQJO4xw-o-",
        "colab_type": "code",
        "colab": {}
      },
      "cell_type": "code",
      "source": [
        "seed = 7\n",
        "numpy.random.seed(seed)"
      ],
      "execution_count": 0,
      "outputs": []
    },
    {
      "metadata": {
        "id": "otTZMOZux2bP",
        "colab_type": "text"
      },
      "cell_type": "markdown",
      "source": [
        "## Load data and reshape to be [samples][pixels][width][height]\n"
      ]
    },
    {
      "metadata": {
        "id": "GIL32JSUxUty",
        "colab_type": "code",
        "colab": {
          "base_uri": "https://localhost:8080/",
          "height": 50
        },
        "outputId": "5910d463-3ea6-442f-d6e4-7e3b2503180d"
      },
      "cell_type": "code",
      "source": [
        "(X_train, y_train), (X_test, y_test) = mnist.load_data()\n",
        "X_train = X_train.reshape(X_train.shape[0], 1, 28, 28).astype('float32')\n",
        "X_test = X_test.reshape(X_test.shape[0], 1, 28, 28).astype('float32')"
      ],
      "execution_count": 4,
      "outputs": [
        {
          "output_type": "stream",
          "text": [
            "Downloading data from https://s3.amazonaws.com/img-datasets/mnist.npz\n",
            "11493376/11490434 [==============================] - 3s 0us/step\n"
          ],
          "name": "stdout"
        }
      ]
    },
    {
      "metadata": {
        "id": "cRPZmhI4yX7V",
        "colab_type": "text"
      },
      "cell_type": "markdown",
      "source": [
        "## Normalize inputs from 0-255 to 0-1"
      ]
    },
    {
      "metadata": {
        "id": "JQ8waZMWyImh",
        "colab_type": "code",
        "colab": {}
      },
      "cell_type": "code",
      "source": [
        "X_train = X_train / 255\n",
        "X_test = X_test / 255"
      ],
      "execution_count": 0,
      "outputs": []
    },
    {
      "metadata": {
        "id": "luOsN5NRyiup",
        "colab_type": "text"
      },
      "cell_type": "markdown",
      "source": [
        "## One hot encode outputs"
      ]
    },
    {
      "metadata": {
        "id": "CS5YXar7ycfr",
        "colab_type": "code",
        "colab": {}
      },
      "cell_type": "code",
      "source": [
        "y_train = np_utils.to_categorical(y_train)\n",
        "y_test = np_utils.to_categorical(y_test)\n",
        "num_classes = y_test.shape[1]"
      ],
      "execution_count": 0,
      "outputs": []
    },
    {
      "metadata": {
        "id": "kTB-yaGozIbo",
        "colab_type": "text"
      },
      "cell_type": "markdown",
      "source": [
        "# Baseline Model\n",
        "\n",
        "1.   The first hidden layer is a convolutional layer called a Convolution2D. The layer has 32 feature maps, which with the size of 5×5 and a rectifier activation function. This is the input layer, expecting images with the structure outline above [pixels][width][height].\n",
        "2. Next we define a pooling layer that takes the max called MaxPooling2D. It is configured with a pool size of 2×2.\n",
        "3. The next layer is a regularization layer using dropout called Dropout. It is configured to randomly exclude 20% of neurons in the layer in order to reduce overfitting.\n",
        "4. Next is a layer that converts the 2D matrix data to a vector called Flatten. It allows the output to be processed by standard fully connected layers.\n",
        "5. Next a fully connected layer with 128 neurons and rectifier activation function.\n",
        "6. Finally, the output layer has 10 neurons for the 10 classes and a softmax activation function to output probability-like predictions for each class.\n",
        "\n",
        "\n",
        "The model is trained using logarithmic loss and the ADAM gradient descent algorithm.\n",
        "\n"
      ]
    },
    {
      "metadata": {
        "id": "8ryTq7p9ymBV",
        "colab_type": "code",
        "colab": {}
      },
      "cell_type": "code",
      "source": [
        "def baseline_model():\n",
        "\tmodel = Sequential()\n",
        "\tmodel.add(Conv2D(32, (5, 5), input_shape=(1, 28, 28), activation='relu'))\n",
        "\tmodel.add(MaxPooling2D(pool_size=(2, 2)))\n",
        "\tmodel.add(Dropout(0.2))\n",
        "\tmodel.add(Flatten())\n",
        "\tmodel.add(Dense(128, activation='relu'))\n",
        "\tmodel.add(Dense(num_classes, activation='softmax'))\n",
        "\tmodel.compile(loss='categorical_crossentropy', optimizer='adam', metrics=['accuracy'])\n",
        "\treturn model"
      ],
      "execution_count": 0,
      "outputs": []
    },
    {
      "metadata": {
        "id": "s7w2sgTYz4w9",
        "colab_type": "text"
      },
      "cell_type": "markdown",
      "source": [
        "## Build, test and train the model"
      ]
    },
    {
      "metadata": {
        "id": "4HvzckGxzvNT",
        "colab_type": "code",
        "colab": {
          "base_uri": "https://localhost:8080/",
          "height": 558
        },
        "outputId": "132c820a-ecb7-4cc0-dced-ef28534ab275"
      },
      "cell_type": "code",
      "source": [
        "model = baseline_model()\n",
        "# Fit the model\n",
        "model.fit(X_train, y_train, validation_data=(X_test, y_test), epochs=10, batch_size=200, verbose=2)\n",
        "# Final evaluation of the model\n",
        "scores = model.evaluate(X_test, y_test, verbose=0)\n",
        "print(\"CNN Error: %.2f%%\" % (100-scores[1]*100))"
      ],
      "execution_count": 8,
      "outputs": [
        {
          "output_type": "stream",
          "text": [
            "WARNING:tensorflow:From /usr/local/lib/python3.6/dist-packages/tensorflow/python/framework/op_def_library.py:263: colocate_with (from tensorflow.python.framework.ops) is deprecated and will be removed in a future version.\n",
            "Instructions for updating:\n",
            "Colocations handled automatically by placer.\n",
            "WARNING:tensorflow:From /usr/local/lib/python3.6/dist-packages/keras/backend/tensorflow_backend.py:3445: calling dropout (from tensorflow.python.ops.nn_ops) with keep_prob is deprecated and will be removed in a future version.\n",
            "Instructions for updating:\n",
            "Please use `rate` instead of `keep_prob`. Rate should be set to `rate = 1 - keep_prob`.\n",
            "WARNING:tensorflow:From /usr/local/lib/python3.6/dist-packages/tensorflow/python/ops/math_ops.py:3066: to_int32 (from tensorflow.python.ops.math_ops) is deprecated and will be removed in a future version.\n",
            "Instructions for updating:\n",
            "Use tf.cast instead.\n",
            "Train on 60000 samples, validate on 10000 samples\n",
            "Epoch 1/10\n",
            " - 60s - loss: 0.2253 - acc: 0.9356 - val_loss: 0.0774 - val_acc: 0.9759\n",
            "Epoch 2/10\n",
            " - 59s - loss: 0.0709 - acc: 0.9786 - val_loss: 0.0440 - val_acc: 0.9851\n",
            "Epoch 3/10\n",
            " - 59s - loss: 0.0506 - acc: 0.9846 - val_loss: 0.0432 - val_acc: 0.9852\n",
            "Epoch 4/10\n",
            " - 59s - loss: 0.0388 - acc: 0.9879 - val_loss: 0.0404 - val_acc: 0.9874\n",
            "Epoch 5/10\n",
            " - 59s - loss: 0.0319 - acc: 0.9901 - val_loss: 0.0343 - val_acc: 0.9887\n",
            "Epoch 6/10\n",
            " - 59s - loss: 0.0264 - acc: 0.9919 - val_loss: 0.0331 - val_acc: 0.9893\n",
            "Epoch 7/10\n",
            " - 59s - loss: 0.0215 - acc: 0.9930 - val_loss: 0.0359 - val_acc: 0.9882\n",
            "Epoch 8/10\n",
            " - 59s - loss: 0.0189 - acc: 0.9941 - val_loss: 0.0328 - val_acc: 0.9887\n",
            "Epoch 9/10\n",
            " - 59s - loss: 0.0152 - acc: 0.9950 - val_loss: 0.0327 - val_acc: 0.9886\n",
            "Epoch 10/10\n",
            " - 59s - loss: 0.0138 - acc: 0.9960 - val_loss: 0.0324 - val_acc: 0.9897\n",
            "CNN Error: 1.03%\n"
          ],
          "name": "stdout"
        }
      ]
    }
  ]
}